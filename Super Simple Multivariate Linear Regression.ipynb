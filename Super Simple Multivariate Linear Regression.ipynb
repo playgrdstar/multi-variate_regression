{
 "cells": [
  {
   "cell_type": "markdown",
   "metadata": {},
   "source": [
    "### Super Simple Script on Multivariate Linear Regression ###"
   ]
  },
  {
   "cell_type": "markdown",
   "metadata": {},
   "source": [
    "Multi-variate regression just means you regress one variable against a whole range of other variables."
   ]
  },
  {
   "cell_type": "markdown",
   "metadata": {},
   "source": [
    "A good example in finance is the Arbitrage Pricing Theory (APT). \n",
    "Compared to CAPM, APT basically assumes that the stock return is only dependent on one factor, and so the regression there was a single variate linear regression. "
   ]
  },
  {
   "cell_type": "markdown",
   "metadata": {},
   "source": [
    "The APT goes a step further, and assumes that the stock return can come from multiple factors, and uses a multivariate linear regression model, as follows -\n",
    "\n",
    "$$ E[R_i] = \\alpha_i + \\beta_{i, 1}F_1 + ... + \\beta_{i, n}F_n $$\n",
    "\n",
    "where $R_i$ is the stock's returns, and the subsequent terms are the factors to be regressed against. "
   ]
  },
  {
   "cell_type": "markdown",
   "metadata": {},
   "source": [
    "Our objective is to find the values of $\\alpha_i$ and the various $\\beta$s"
   ]
  },
  {
   "cell_type": "markdown",
   "metadata": {},
   "source": [
    "Let's first create a random set of values"
   ]
  },
  {
   "cell_type": "code",
   "execution_count": 1,
   "metadata": {
    "collapsed": true
   },
   "outputs": [],
   "source": [
    "import numpy as np\n",
    "import pandas as pd\n",
    "\n",
    "num_periods = 100\n",
    "num_factors = 8\n",
    "\n",
    "all_values = np.array([np.random.random(num_factors+1) for i in range(num_periods)])"
   ]
  },
  {
   "cell_type": "markdown",
   "metadata": {},
   "source": [
    "Just to show how the data looks like in Pandas"
   ]
  },
  {
   "cell_type": "code",
   "execution_count": 2,
   "metadata": {
    "collapsed": true
   },
   "outputs": [],
   "source": [
    "multifactor_data = pd.DataFrame(data=all_values[:,0], index=range(num_periods), columns=['StockReturns'])"
   ]
  },
  {
   "cell_type": "markdown",
   "metadata": {},
   "source": [
    "Let's create factors that are highly correlated with the variable we are predicting - by multiplying each of them by the StockReturns variable."
   ]
  },
  {
   "cell_type": "code",
   "execution_count": 3,
   "metadata": {},
   "outputs": [],
   "source": [
    "for i in range(1, num_factors+1):\n",
    "    label = 'Factor' + str(i)\n",
    "    multifactor_data[label] = pd.DataFrame(data=all_values[:,i]*all_values[:,0], index=range(num_periods))"
   ]
  },
  {
   "cell_type": "code",
   "execution_count": 4,
   "metadata": {},
   "outputs": [
    {
     "data": {
      "text/html": [
       "<div>\n",
       "<table border=\"1\" class=\"dataframe\">\n",
       "  <thead>\n",
       "    <tr style=\"text-align: right;\">\n",
       "      <th></th>\n",
       "      <th>StockReturns</th>\n",
       "      <th>Factor1</th>\n",
       "      <th>Factor2</th>\n",
       "      <th>Factor3</th>\n",
       "      <th>Factor4</th>\n",
       "      <th>Factor5</th>\n",
       "      <th>Factor6</th>\n",
       "      <th>Factor7</th>\n",
       "      <th>Factor8</th>\n",
       "    </tr>\n",
       "  </thead>\n",
       "  <tbody>\n",
       "    <tr>\n",
       "      <th>0</th>\n",
       "      <td>0.104148</td>\n",
       "      <td>0.001463</td>\n",
       "      <td>0.055067</td>\n",
       "      <td>0.006680</td>\n",
       "      <td>0.035604</td>\n",
       "      <td>0.024595</td>\n",
       "      <td>0.024984</td>\n",
       "      <td>0.068150</td>\n",
       "      <td>0.042042</td>\n",
       "    </tr>\n",
       "    <tr>\n",
       "      <th>1</th>\n",
       "      <td>0.322437</td>\n",
       "      <td>0.006423</td>\n",
       "      <td>0.096316</td>\n",
       "      <td>0.261771</td>\n",
       "      <td>0.290816</td>\n",
       "      <td>0.160277</td>\n",
       "      <td>0.288845</td>\n",
       "      <td>0.244392</td>\n",
       "      <td>0.067183</td>\n",
       "    </tr>\n",
       "    <tr>\n",
       "      <th>2</th>\n",
       "      <td>0.807019</td>\n",
       "      <td>0.331176</td>\n",
       "      <td>0.427496</td>\n",
       "      <td>0.121126</td>\n",
       "      <td>0.281866</td>\n",
       "      <td>0.109936</td>\n",
       "      <td>0.077227</td>\n",
       "      <td>0.658560</td>\n",
       "      <td>0.530451</td>\n",
       "    </tr>\n",
       "    <tr>\n",
       "      <th>3</th>\n",
       "      <td>0.375065</td>\n",
       "      <td>0.324686</td>\n",
       "      <td>0.084920</td>\n",
       "      <td>0.219045</td>\n",
       "      <td>0.143188</td>\n",
       "      <td>0.152693</td>\n",
       "      <td>0.137051</td>\n",
       "      <td>0.058964</td>\n",
       "      <td>0.169739</td>\n",
       "    </tr>\n",
       "    <tr>\n",
       "      <th>4</th>\n",
       "      <td>0.596416</td>\n",
       "      <td>0.047848</td>\n",
       "      <td>0.207737</td>\n",
       "      <td>0.579259</td>\n",
       "      <td>0.554828</td>\n",
       "      <td>0.474295</td>\n",
       "      <td>0.570740</td>\n",
       "      <td>0.400263</td>\n",
       "      <td>0.554946</td>\n",
       "    </tr>\n",
       "    <tr>\n",
       "      <th>5</th>\n",
       "      <td>0.690272</td>\n",
       "      <td>0.424033</td>\n",
       "      <td>0.447409</td>\n",
       "      <td>0.120427</td>\n",
       "      <td>0.401322</td>\n",
       "      <td>0.385580</td>\n",
       "      <td>0.210282</td>\n",
       "      <td>0.108569</td>\n",
       "      <td>0.435577</td>\n",
       "    </tr>\n",
       "    <tr>\n",
       "      <th>6</th>\n",
       "      <td>0.887546</td>\n",
       "      <td>0.809754</td>\n",
       "      <td>0.122643</td>\n",
       "      <td>0.663487</td>\n",
       "      <td>0.141914</td>\n",
       "      <td>0.047670</td>\n",
       "      <td>0.363444</td>\n",
       "      <td>0.307023</td>\n",
       "      <td>0.522531</td>\n",
       "    </tr>\n",
       "    <tr>\n",
       "      <th>7</th>\n",
       "      <td>0.285732</td>\n",
       "      <td>0.153735</td>\n",
       "      <td>0.016488</td>\n",
       "      <td>0.251658</td>\n",
       "      <td>0.156171</td>\n",
       "      <td>0.256327</td>\n",
       "      <td>0.228095</td>\n",
       "      <td>0.254842</td>\n",
       "      <td>0.062886</td>\n",
       "    </tr>\n",
       "    <tr>\n",
       "      <th>8</th>\n",
       "      <td>0.464955</td>\n",
       "      <td>0.105131</td>\n",
       "      <td>0.433098</td>\n",
       "      <td>0.285241</td>\n",
       "      <td>0.212870</td>\n",
       "      <td>0.016585</td>\n",
       "      <td>0.162213</td>\n",
       "      <td>0.127166</td>\n",
       "      <td>0.448148</td>\n",
       "    </tr>\n",
       "    <tr>\n",
       "      <th>9</th>\n",
       "      <td>0.004636</td>\n",
       "      <td>0.001139</td>\n",
       "      <td>0.001633</td>\n",
       "      <td>0.004559</td>\n",
       "      <td>0.000626</td>\n",
       "      <td>0.000147</td>\n",
       "      <td>0.003393</td>\n",
       "      <td>0.002923</td>\n",
       "      <td>0.002360</td>\n",
       "    </tr>\n",
       "  </tbody>\n",
       "</table>\n",
       "</div>"
      ],
      "text/plain": [
       "   StockReturns   Factor1   Factor2   Factor3   Factor4   Factor5   Factor6  \\\n",
       "0      0.104148  0.001463  0.055067  0.006680  0.035604  0.024595  0.024984   \n",
       "1      0.322437  0.006423  0.096316  0.261771  0.290816  0.160277  0.288845   \n",
       "2      0.807019  0.331176  0.427496  0.121126  0.281866  0.109936  0.077227   \n",
       "3      0.375065  0.324686  0.084920  0.219045  0.143188  0.152693  0.137051   \n",
       "4      0.596416  0.047848  0.207737  0.579259  0.554828  0.474295  0.570740   \n",
       "5      0.690272  0.424033  0.447409  0.120427  0.401322  0.385580  0.210282   \n",
       "6      0.887546  0.809754  0.122643  0.663487  0.141914  0.047670  0.363444   \n",
       "7      0.285732  0.153735  0.016488  0.251658  0.156171  0.256327  0.228095   \n",
       "8      0.464955  0.105131  0.433098  0.285241  0.212870  0.016585  0.162213   \n",
       "9      0.004636  0.001139  0.001633  0.004559  0.000626  0.000147  0.003393   \n",
       "\n",
       "    Factor7   Factor8  \n",
       "0  0.068150  0.042042  \n",
       "1  0.244392  0.067183  \n",
       "2  0.658560  0.530451  \n",
       "3  0.058964  0.169739  \n",
       "4  0.400263  0.554946  \n",
       "5  0.108569  0.435577  \n",
       "6  0.307023  0.522531  \n",
       "7  0.254842  0.062886  \n",
       "8  0.127166  0.448148  \n",
       "9  0.002923  0.002360  "
      ]
     },
     "execution_count": 4,
     "metadata": {},
     "output_type": "execute_result"
    }
   ],
   "source": [
    "multifactor_data.head(10)"
   ]
  },
  {
   "cell_type": "code",
   "execution_count": 5,
   "metadata": {},
   "outputs": [],
   "source": [
    "y_values = multifactor_data['StockReturns'].values\n",
    "x_values = multifactor_data.iloc[:,1:].values"
   ]
  },
  {
   "cell_type": "code",
   "execution_count": 6,
   "metadata": {
    "collapsed": true
   },
   "outputs": [],
   "source": [
    "import statsmodels.api as sm\n",
    "x_values = sm.add_constant(x_values) # include an intercept"
   ]
  },
  {
   "cell_type": "code",
   "execution_count": 7,
   "metadata": {},
   "outputs": [],
   "source": [
    "results = sm.OLS(y_values, x_values).fit()"
   ]
  },
  {
   "cell_type": "code",
   "execution_count": 8,
   "metadata": {},
   "outputs": [
    {
     "name": "stdout",
     "output_type": "stream",
     "text": [
      "                            OLS Regression Results                            \n",
      "==============================================================================\n",
      "Dep. Variable:                      y   R-squared:                       0.865\n",
      "Model:                            OLS   Adj. R-squared:                  0.853\n",
      "Method:                 Least Squares   F-statistic:                     72.80\n",
      "Date:                Sun, 16 Sep 2018   Prob (F-statistic):           3.29e-36\n",
      "Time:                        19:03:06   Log-Likelihood:                 81.026\n",
      "No. Observations:                 100   AIC:                            -144.1\n",
      "Df Residuals:                      91   BIC:                            -120.6\n",
      "Df Model:                           8                                         \n",
      "Covariance Type:            nonrobust                                         \n",
      "==============================================================================\n",
      "                 coef    std err          t      P>|t|      [0.025      0.975]\n",
      "------------------------------------------------------------------------------\n",
      "const          0.0796      0.022      3.624      0.000       0.036       0.123\n",
      "x1             0.1591      0.072      2.212      0.030       0.016       0.302\n",
      "x2             0.2208      0.071      3.126      0.002       0.080       0.361\n",
      "x3             0.3091      0.058      5.323      0.000       0.194       0.424\n",
      "x4             0.1654      0.066      2.494      0.014       0.034       0.297\n",
      "x5             0.1599      0.065      2.477      0.015       0.032       0.288\n",
      "x6             0.1982      0.061      3.223      0.002       0.076       0.320\n",
      "x7             0.2440      0.066      3.724      0.000       0.114       0.374\n",
      "x8             0.2234      0.088      2.544      0.013       0.049       0.398\n",
      "==============================================================================\n",
      "Omnibus:                        9.206   Durbin-Watson:                   1.821\n",
      "Prob(Omnibus):                  0.010   Jarque-Bera (JB):                9.428\n",
      "Skew:                           0.598   Prob(JB):                      0.00897\n",
      "Kurtosis:                       3.913   Cond. No.                         12.4\n",
      "==============================================================================\n",
      "\n",
      "Warnings:\n",
      "[1] Standard Errors assume that the covariance matrix of the errors is correctly specified.\n"
     ]
    }
   ],
   "source": [
    "print(results.summary())"
   ]
  },
  {
   "cell_type": "code",
   "execution_count": 9,
   "metadata": {},
   "outputs": [
    {
     "name": "stdout",
     "output_type": "stream",
     "text": [
      "[0.07963282 0.15905534 0.22078298 0.30905536 0.16536714 0.15993752\n",
      " 0.19818225 0.24396488 0.22337066]\n"
     ]
    }
   ],
   "source": [
    "print(results.params)"
   ]
  },
  {
   "cell_type": "code",
   "execution_count": null,
   "metadata": {
    "collapsed": true
   },
   "outputs": [],
   "source": []
  }
 ],
 "metadata": {
  "kernelspec": {
   "display_name": "Python [default]",
   "language": "python",
   "name": "python3"
  },
  "language_info": {
   "codemirror_mode": {
    "name": "ipython",
    "version": 3
   },
   "file_extension": ".py",
   "mimetype": "text/x-python",
   "name": "python",
   "nbconvert_exporter": "python",
   "pygments_lexer": "ipython3",
   "version": "3.5.3"
  }
 },
 "nbformat": 4,
 "nbformat_minor": 2
}
